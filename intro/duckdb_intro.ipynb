{
 "cells": [
  {
   "cell_type": "code",
   "execution_count": 1,
   "metadata": {},
   "outputs": [],
   "source": [
    "from pathlib import Path\n",
    "import duckdb"
   ]
  },
  {
   "cell_type": "code",
   "execution_count": 2,
   "metadata": {},
   "outputs": [],
   "source": [
    "input_file = Path(\"../data\") / \"companies_sorted.parquet\""
   ]
  },
  {
   "cell_type": "code",
   "execution_count": 3,
   "metadata": {},
   "outputs": [],
   "source": [
    "# Create connection\n",
    "conn = duckdb.connect()"
   ]
  },
  {
   "cell_type": "code",
   "execution_count": 4,
   "metadata": {},
   "outputs": [
    {
     "name": "stdout",
     "output_type": "stream",
     "text": [
      "7173426 rows in parquet file\n",
      "CPU times: user 4.77 ms, sys: 1.76 ms, total: 6.53 ms\n",
      "Wall time: 2.71 ms\n"
     ]
    }
   ],
   "source": [
    "%%time\n",
    "# Count number of rows in parquet file\n",
    "tbl = conn.sql(\n",
    "    f\"\"\"\n",
    "    SELECT COUNT(*) AS counts FROM \"{input_file}\";\n",
    "    \"\"\"\n",
    ")\n",
    "counts = tbl.fetchone()[0]\n",
    "print(f\"{counts} rows in parquet file\")"
   ]
  },
  {
   "cell_type": "code",
   "execution_count": 5,
   "metadata": {},
   "outputs": [
    {
     "name": "stdout",
     "output_type": "stream",
     "text": [
      "Columns in parquet file: ['name', 'country', 'year founded']\n",
      "CPU times: user 1.22 s, sys: 48.2 ms, total: 1.27 s\n",
      "Wall time: 209 ms\n"
     ]
    },
    {
     "data": {
      "text/plain": [
       "┌────────────────────────────────────────┬────────────────┬──────────────┐\n",
       "│                  name                  │    country     │ year founded │\n",
       "│                varchar                 │    varchar     │    double    │\n",
       "├────────────────────────────────────────┼────────────────┼──────────────┤\n",
       "│ university of glasgow                  │ united kingdom │       1451.0 │\n",
       "│ technology services organization (tso) │ united states  │       1775.0 │\n",
       "│ us naval reserve officer               │ united states  │       1775.0 │\n",
       "│ marine corps officer selection         │ united states  │       1775.0 │\n",
       "│ u.s. department of the treasury        │ united states  │       1789.0 │\n",
       "│ white house athletic center            │ united states  │       1789.0 │\n",
       "│ old farmer's almanac                   │ united states  │       1792.0 │\n",
       "│ the times herald                       │ united states  │       1799.0 │\n",
       "│ us army                                │ united states  │       1800.0 │\n",
       "│ crédit municipal de bordeaux           │ france         │       1801.0 │\n",
       "├────────────────────────────────────────┴────────────────┴──────────────┤\n",
       "│ 10 rows                                                      3 columns │\n",
       "└────────────────────────────────────────────────────────────────────────┘"
      ]
     },
     "execution_count": 5,
     "metadata": {},
     "output_type": "execute_result"
    }
   ],
   "source": [
    "%%time\n",
    "# Read specific columns from parquet file and sort by year founded\n",
    "tbl = conn.sql(\n",
    "    f\"\"\"\n",
    "    SELECT name, country, \"year founded\" FROM \"{input_file}\"\n",
    "    WHERE country IS NOT NULL AND \"year founded\" IS NOT NULL\n",
    "    ORDER BY \"year founded\";\n",
    "    \"\"\"\n",
    ")\n",
    "\n",
    "print(f\"Columns in parquet file: {tbl.columns}\")\n",
    "\n",
    "result = tbl.limit(10).execute()\n",
    "result"
   ]
  },
  {
   "cell_type": "code",
   "execution_count": null,
   "metadata": {},
   "outputs": [],
   "source": []
  }
 ],
 "metadata": {
  "kernelspec": {
   "display_name": ".venv",
   "language": "python",
   "name": "python3"
  },
  "language_info": {
   "codemirror_mode": {
    "name": "ipython",
    "version": 3
   },
   "file_extension": ".py",
   "mimetype": "text/x-python",
   "name": "python",
   "nbconvert_exporter": "python",
   "pygments_lexer": "ipython3",
   "version": "3.11.2"
  },
  "orig_nbformat": 4
 },
 "nbformat": 4,
 "nbformat_minor": 2
}
